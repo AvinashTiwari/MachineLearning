{
  "nbformat": 4,
  "nbformat_minor": 0,
  "metadata": {
    "colab": {
      "provenance": [],
      "authorship_tag": "ABX9TyOfpoZrKFoaBcRlu0z5+r0M",
      "include_colab_link": true
    },
    "kernelspec": {
      "name": "python3",
      "display_name": "Python 3"
    },
    "language_info": {
      "name": "python"
    }
  },
  "cells": [
    {
      "cell_type": "markdown",
      "metadata": {
        "id": "view-in-github",
        "colab_type": "text"
      },
      "source": [
        "<a href=\"https://colab.research.google.com/github/AvinashTiwari/MachineLearning/blob/master/Numpy_For_Machine_Learning.ipynb\" target=\"_parent\"><img src=\"https://colab.research.google.com/assets/colab-badge.svg\" alt=\"Open In Colab\"/></a>"
      ]
    },
    {
      "cell_type": "code",
      "execution_count": null,
      "metadata": {
        "id": "wAmqHcJsXzCa",
        "colab": {
          "base_uri": "https://localhost:8080/"
        },
        "outputId": "71ff2012-d192-461a-83f0-57f4a9df0246"
      },
      "outputs": [
        {
          "output_type": "execute_result",
          "data": {
            "text/plain": [
              "array([[[4, 5, 2, 5, 6],\n",
              "        [5, 3, 2, 5, 3],\n",
              "        [4, 1, 3, 8, 3],\n",
              "        [9, 4, 8, 4, 5]],\n",
              "\n",
              "       [[5, 4, 1, 1, 0],\n",
              "        [9, 1, 2, 0, 7],\n",
              "        [9, 7, 9, 0, 8],\n",
              "        [9, 2, 2, 7, 3]],\n",
              "\n",
              "       [[7, 8, 4, 0, 3],\n",
              "        [8, 3, 4, 9, 2],\n",
              "        [7, 7, 8, 0, 1],\n",
              "        [1, 3, 0, 5, 8]]])"
            ]
          },
          "metadata": {},
          "execution_count": 3
        }
      ],
      "source": [
        "import numpy as np \n",
        "np.__version__\n",
        "#!pip install numpy\n",
        "x = np.random.randint(10,size=(3,4,5))\n",
        "x"
      ]
    },
    {
      "cell_type": "code",
      "source": [
        "x.ndim"
      ],
      "metadata": {
        "colab": {
          "base_uri": "https://localhost:8080/"
        },
        "id": "w28qMOpCZ73E",
        "outputId": "a80f5974-2273-4be4-ca4e-36e091147748"
      },
      "execution_count": null,
      "outputs": [
        {
          "output_type": "execute_result",
          "data": {
            "text/plain": [
              "3"
            ]
          },
          "metadata": {},
          "execution_count": 4
        }
      ]
    },
    {
      "cell_type": "code",
      "source": [
        "x.shape"
      ],
      "metadata": {
        "colab": {
          "base_uri": "https://localhost:8080/"
        },
        "id": "lxisvhdOZ_l0",
        "outputId": "3c2390a9-5260-4ee9-e3df-b35ce32c2513"
      },
      "execution_count": null,
      "outputs": [
        {
          "output_type": "execute_result",
          "data": {
            "text/plain": [
              "(3, 4, 5)"
            ]
          },
          "metadata": {},
          "execution_count": 5
        }
      ]
    },
    {
      "cell_type": "code",
      "source": [
        "x.size"
      ],
      "metadata": {
        "colab": {
          "base_uri": "https://localhost:8080/"
        },
        "id": "SxKU7C2JaENi",
        "outputId": "f8146081-dee4-411e-b341-b3658cb42a73"
      },
      "execution_count": null,
      "outputs": [
        {
          "output_type": "execute_result",
          "data": {
            "text/plain": [
              "60"
            ]
          },
          "metadata": {},
          "execution_count": 6
        }
      ]
    },
    {
      "cell_type": "code",
      "source": [
        "x.dtype"
      ],
      "metadata": {
        "colab": {
          "base_uri": "https://localhost:8080/"
        },
        "id": "v2W_YT2IaJur",
        "outputId": "282bec4e-528e-44de-b66e-a8ea6490c2ba"
      },
      "execution_count": null,
      "outputs": [
        {
          "output_type": "execute_result",
          "data": {
            "text/plain": [
              "dtype('int64')"
            ]
          },
          "metadata": {},
          "execution_count": 7
        }
      ]
    },
    {
      "cell_type": "code",
      "source": [
        "x.itemsize"
      ],
      "metadata": {
        "colab": {
          "base_uri": "https://localhost:8080/"
        },
        "id": "OU5IOqLjaOeN",
        "outputId": "a654cc19-2656-4550-bd67-b66131573e28"
      },
      "execution_count": null,
      "outputs": [
        {
          "output_type": "execute_result",
          "data": {
            "text/plain": [
              "8"
            ]
          },
          "metadata": {},
          "execution_count": 8
        }
      ]
    },
    {
      "cell_type": "code",
      "source": [
        "x.nbytes"
      ],
      "metadata": {
        "colab": {
          "base_uri": "https://localhost:8080/"
        },
        "id": "AQe9t5SfaUWw",
        "outputId": "ae5a7116-8de0-47f1-e5cb-5fc61ab0b701"
      },
      "execution_count": null,
      "outputs": [
        {
          "output_type": "execute_result",
          "data": {
            "text/plain": [
              "480"
            ]
          },
          "metadata": {},
          "execution_count": 9
        }
      ]
    }
  ]
}