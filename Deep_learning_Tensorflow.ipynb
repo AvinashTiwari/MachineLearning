{
  "nbformat": 4,
  "nbformat_minor": 0,
  "metadata": {
    "colab": {
      "provenance": [],
      "authorship_tag": "ABX9TyNvCFLPoA8T/x4Xdd34wPbs",
      "include_colab_link": true
    },
    "kernelspec": {
      "name": "python3",
      "display_name": "Python 3"
    },
    "language_info": {
      "name": "python"
    }
  },
  "cells": [
    {
      "cell_type": "markdown",
      "metadata": {
        "id": "view-in-github",
        "colab_type": "text"
      },
      "source": [
        "<a href=\"https://colab.research.google.com/github/AvinashTiwari/MachineLearning/blob/master/Deep_learning_Tensorflow.ipynb\" target=\"_parent\"><img src=\"https://colab.research.google.com/assets/colab-badge.svg\" alt=\"Open In Colab\"/></a>"
      ]
    },
    {
      "cell_type": "code",
      "execution_count": null,
      "metadata": {
        "colab": {
          "base_uri": "https://localhost:8080/"
        },
        "id": "kISxq_bJFcqX",
        "outputId": "4da9127b-a29e-4e5a-9192-694868248952"
      },
      "outputs": [
        {
          "output_type": "stream",
          "name": "stdout",
          "text": [
            "Looking in indexes: https://pypi.org/simple, https://us-python.pkg.dev/colab-wheels/public/simple/\n",
            "Requirement already satisfied: tensorflow in /usr/local/lib/python3.9/dist-packages (2.11.0)\n",
            "Requirement already satisfied: keras<2.12,>=2.11.0 in /usr/local/lib/python3.9/dist-packages (from tensorflow) (2.11.0)\n",
            "Requirement already satisfied: protobuf<3.20,>=3.9.2 in /usr/local/lib/python3.9/dist-packages (from tensorflow) (3.19.6)\n",
            "Requirement already satisfied: grpcio<2.0,>=1.24.3 in /usr/local/lib/python3.9/dist-packages (from tensorflow) (1.51.3)\n",
            "Requirement already satisfied: numpy>=1.20 in /usr/local/lib/python3.9/dist-packages (from tensorflow) (1.22.4)\n",
            "Requirement already satisfied: six>=1.12.0 in /usr/local/lib/python3.9/dist-packages (from tensorflow) (1.15.0)\n",
            "Requirement already satisfied: termcolor>=1.1.0 in /usr/local/lib/python3.9/dist-packages (from tensorflow) (2.2.0)\n",
            "Requirement already satisfied: astunparse>=1.6.0 in /usr/local/lib/python3.9/dist-packages (from tensorflow) (1.6.3)\n",
            "Requirement already satisfied: flatbuffers>=2.0 in /usr/local/lib/python3.9/dist-packages (from tensorflow) (23.3.3)\n",
            "Requirement already satisfied: setuptools in /usr/local/lib/python3.9/dist-packages (from tensorflow) (63.4.3)\n",
            "Requirement already satisfied: tensorflow-estimator<2.12,>=2.11.0 in /usr/local/lib/python3.9/dist-packages (from tensorflow) (2.11.0)\n",
            "Requirement already satisfied: libclang>=13.0.0 in /usr/local/lib/python3.9/dist-packages (from tensorflow) (15.0.6.1)\n",
            "Requirement already satisfied: typing-extensions>=3.6.6 in /usr/local/lib/python3.9/dist-packages (from tensorflow) (4.5.0)\n",
            "Requirement already satisfied: h5py>=2.9.0 in /usr/local/lib/python3.9/dist-packages (from tensorflow) (3.8.0)\n",
            "Requirement already satisfied: absl-py>=1.0.0 in /usr/local/lib/python3.9/dist-packages (from tensorflow) (1.4.0)\n",
            "Requirement already satisfied: tensorboard<2.12,>=2.11 in /usr/local/lib/python3.9/dist-packages (from tensorflow) (2.11.2)\n",
            "Requirement already satisfied: wrapt>=1.11.0 in /usr/local/lib/python3.9/dist-packages (from tensorflow) (1.15.0)\n",
            "Requirement already satisfied: gast<=0.4.0,>=0.2.1 in /usr/local/lib/python3.9/dist-packages (from tensorflow) (0.4.0)\n",
            "Requirement already satisfied: packaging in /usr/local/lib/python3.9/dist-packages (from tensorflow) (23.0)\n",
            "Requirement already satisfied: google-pasta>=0.1.1 in /usr/local/lib/python3.9/dist-packages (from tensorflow) (0.2.0)\n",
            "Requirement already satisfied: opt-einsum>=2.3.2 in /usr/local/lib/python3.9/dist-packages (from tensorflow) (3.3.0)\n",
            "Requirement already satisfied: tensorflow-io-gcs-filesystem>=0.23.1 in /usr/local/lib/python3.9/dist-packages (from tensorflow) (0.31.0)\n",
            "Requirement already satisfied: wheel<1.0,>=0.23.0 in /usr/local/lib/python3.9/dist-packages (from astunparse>=1.6.0->tensorflow) (0.40.0)\n",
            "Requirement already satisfied: werkzeug>=1.0.1 in /usr/local/lib/python3.9/dist-packages (from tensorboard<2.12,>=2.11->tensorflow) (2.2.3)\n",
            "Requirement already satisfied: google-auth-oauthlib<0.5,>=0.4.1 in /usr/local/lib/python3.9/dist-packages (from tensorboard<2.12,>=2.11->tensorflow) (0.4.6)\n",
            "Requirement already satisfied: tensorboard-data-server<0.7.0,>=0.6.0 in /usr/local/lib/python3.9/dist-packages (from tensorboard<2.12,>=2.11->tensorflow) (0.6.1)\n",
            "Requirement already satisfied: google-auth<3,>=1.6.3 in /usr/local/lib/python3.9/dist-packages (from tensorboard<2.12,>=2.11->tensorflow) (2.16.2)\n",
            "Requirement already satisfied: requests<3,>=2.21.0 in /usr/local/lib/python3.9/dist-packages (from tensorboard<2.12,>=2.11->tensorflow) (2.27.1)\n",
            "Requirement already satisfied: tensorboard-plugin-wit>=1.6.0 in /usr/local/lib/python3.9/dist-packages (from tensorboard<2.12,>=2.11->tensorflow) (1.8.1)\n",
            "Requirement already satisfied: markdown>=2.6.8 in /usr/local/lib/python3.9/dist-packages (from tensorboard<2.12,>=2.11->tensorflow) (3.4.1)\n",
            "Requirement already satisfied: pyasn1-modules>=0.2.1 in /usr/local/lib/python3.9/dist-packages (from google-auth<3,>=1.6.3->tensorboard<2.12,>=2.11->tensorflow) (0.2.8)\n",
            "Requirement already satisfied: rsa<5,>=3.1.4 in /usr/local/lib/python3.9/dist-packages (from google-auth<3,>=1.6.3->tensorboard<2.12,>=2.11->tensorflow) (4.9)\n",
            "Requirement already satisfied: cachetools<6.0,>=2.0.0 in /usr/local/lib/python3.9/dist-packages (from google-auth<3,>=1.6.3->tensorboard<2.12,>=2.11->tensorflow) (5.3.0)\n",
            "Requirement already satisfied: requests-oauthlib>=0.7.0 in /usr/local/lib/python3.9/dist-packages (from google-auth-oauthlib<0.5,>=0.4.1->tensorboard<2.12,>=2.11->tensorflow) (1.3.1)\n",
            "Requirement already satisfied: importlib-metadata>=4.4 in /usr/local/lib/python3.9/dist-packages (from markdown>=2.6.8->tensorboard<2.12,>=2.11->tensorflow) (6.0.0)\n",
            "Requirement already satisfied: urllib3<1.27,>=1.21.1 in /usr/local/lib/python3.9/dist-packages (from requests<3,>=2.21.0->tensorboard<2.12,>=2.11->tensorflow) (1.26.15)\n",
            "Requirement already satisfied: charset-normalizer~=2.0.0 in /usr/local/lib/python3.9/dist-packages (from requests<3,>=2.21.0->tensorboard<2.12,>=2.11->tensorflow) (2.0.12)\n",
            "Requirement already satisfied: certifi>=2017.4.17 in /usr/local/lib/python3.9/dist-packages (from requests<3,>=2.21.0->tensorboard<2.12,>=2.11->tensorflow) (2022.12.7)\n",
            "Requirement already satisfied: idna<4,>=2.5 in /usr/local/lib/python3.9/dist-packages (from requests<3,>=2.21.0->tensorboard<2.12,>=2.11->tensorflow) (3.4)\n",
            "Requirement already satisfied: MarkupSafe>=2.1.1 in /usr/local/lib/python3.9/dist-packages (from werkzeug>=1.0.1->tensorboard<2.12,>=2.11->tensorflow) (2.1.2)\n",
            "Requirement already satisfied: zipp>=0.5 in /usr/local/lib/python3.9/dist-packages (from importlib-metadata>=4.4->markdown>=2.6.8->tensorboard<2.12,>=2.11->tensorflow) (3.15.0)\n",
            "Requirement already satisfied: pyasn1<0.5.0,>=0.4.6 in /usr/local/lib/python3.9/dist-packages (from pyasn1-modules>=0.2.1->google-auth<3,>=1.6.3->tensorboard<2.12,>=2.11->tensorflow) (0.4.8)\n",
            "Requirement already satisfied: oauthlib>=3.0.0 in /usr/local/lib/python3.9/dist-packages (from requests-oauthlib>=0.7.0->google-auth-oauthlib<0.5,>=0.4.1->tensorboard<2.12,>=2.11->tensorflow) (3.2.2)\n"
          ]
        }
      ],
      "source": [
        "!pip install tensorflow"
      ]
    },
    {
      "cell_type": "code",
      "source": [
        "import tensorflow as tf"
      ],
      "metadata": {
        "id": "mtRLOQhGFn2b"
      },
      "execution_count": null,
      "outputs": []
    },
    {
      "cell_type": "code",
      "source": [
        "from tensorflow import keras"
      ],
      "metadata": {
        "id": "MjmtPg63FsQU"
      },
      "execution_count": null,
      "outputs": []
    },
    {
      "cell_type": "code",
      "source": [
        "tf.__version__"
      ],
      "metadata": {
        "colab": {
          "base_uri": "https://localhost:8080/",
          "height": 36
        },
        "id": "IkcfPbcyFxkF",
        "outputId": "eb97cf35-c9f8-4361-ee89-63caf277310c"
      },
      "execution_count": null,
      "outputs": [
        {
          "output_type": "execute_result",
          "data": {
            "text/plain": [
              "'2.11.0'"
            ],
            "application/vnd.google.colaboratory.intrinsic+json": {
              "type": "string"
            }
          },
          "metadata": {},
          "execution_count": 4
        }
      ]
    },
    {
      "cell_type": "code",
      "source": [
        "mnist = keras.datasets.mnist\n",
        "(X_train, y_train) ,(X_test,y_test) = mnist.load_data()"
      ],
      "metadata": {
        "colab": {
          "base_uri": "https://localhost:8080/"
        },
        "id": "goSv15AIF0UZ",
        "outputId": "a5c545da-7d53-4889-8072-27a10a7adcc6"
      },
      "execution_count": null,
      "outputs": [
        {
          "output_type": "stream",
          "name": "stdout",
          "text": [
            "Downloading data from https://storage.googleapis.com/tensorflow/tf-keras-datasets/mnist.npz\n",
            "11490434/11490434 [==============================] - 0s 0us/step\n"
          ]
        }
      ]
    },
    {
      "cell_type": "code",
      "source": [
        "X_train.shape"
      ],
      "metadata": {
        "colab": {
          "base_uri": "https://localhost:8080/"
        },
        "id": "_eZ9dQTIF4LJ",
        "outputId": "3b401900-3f02-4470-8bcd-a3d38d9083e6"
      },
      "execution_count": null,
      "outputs": [
        {
          "output_type": "execute_result",
          "data": {
            "text/plain": [
              "(60000, 28, 28)"
            ]
          },
          "metadata": {},
          "execution_count": 8
        }
      ]
    },
    {
      "cell_type": "code",
      "source": [
        "X_test.shape"
      ],
      "metadata": {
        "colab": {
          "base_uri": "https://localhost:8080/"
        },
        "id": "GDlMZOvWGO8H",
        "outputId": "b1a4227e-eb82-45d5-c975-cb7884dd4566"
      },
      "execution_count": null,
      "outputs": [
        {
          "output_type": "execute_result",
          "data": {
            "text/plain": [
              "(10000, 28, 28)"
            ]
          },
          "metadata": {},
          "execution_count": 9
        }
      ]
    },
    {
      "cell_type": "code",
      "source": [
        "X_train = X_train.astype(\"float32\")\n",
        "X_test = X_test.astype(\"float32\")"
      ],
      "metadata": {
        "id": "xCJyRymvGR0R"
      },
      "execution_count": null,
      "outputs": []
    },
    {
      "cell_type": "code",
      "source": [
        "reshaped = 28*28"
      ],
      "metadata": {
        "id": "yOS6mkqdGck-"
      },
      "execution_count": null,
      "outputs": []
    },
    {
      "cell_type": "code",
      "source": [
        "X_train = X_train.reshape(60000, reshaped)\n",
        "X_test = X_test.reshape(10000,reshaped )\n",
        "X_train /= 255\n",
        "X_test /=255\n",
        "\n",
        "y_train = tf.keras.utils.to_categorical(y_train,10)\n",
        "y_test = tf.keras.utils.to_categorical(y_test,10)"
      ],
      "metadata": {
        "id": "Pdk-ObuBGeyU"
      },
      "execution_count": null,
      "outputs": []
    },
    {
      "cell_type": "code",
      "source": [
        "from tensorflow.keras import Sequential\n",
        "from  tensorflow.keras.layers import Dense"
      ],
      "metadata": {
        "id": "pu21qZLMHH_o"
      },
      "execution_count": null,
      "outputs": []
    },
    {
      "cell_type": "code",
      "source": [],
      "metadata": {
        "id": "zbgpQkOEH-S5"
      },
      "execution_count": null,
      "outputs": []
    },
    {
      "cell_type": "code",
      "source": [
        "from keras import activations\n",
        "model = Sequential()\n",
        "model.add(Dense(10, input_shape=(784,), activation=\"softmax\"))\n",
        "model.summary()"
      ],
      "metadata": {
        "colab": {
          "base_uri": "https://localhost:8080/"
        },
        "id": "mXd38NXqHan1",
        "outputId": "29caae02-b0a9-4fe6-d360-386f626b067c"
      },
      "execution_count": null,
      "outputs": [
        {
          "output_type": "stream",
          "name": "stdout",
          "text": [
            "Model: \"sequential_4\"\n",
            "_________________________________________________________________\n",
            " Layer (type)                Output Shape              Param #   \n",
            "=================================================================\n",
            " dense_1 (Dense)             (None, 10)                7850      \n",
            "                                                                 \n",
            "=================================================================\n",
            "Total params: 7,850\n",
            "Trainable params: 7,850\n",
            "Non-trainable params: 0\n",
            "_________________________________________________________________\n"
          ]
        }
      ]
    },
    {
      "cell_type": "code",
      "source": [
        "model.compile(optimizer=\"SGD\",\n",
        "              loss =\"categorical_crossentropy\",\n",
        "              metrics=\"accuracy\")"
      ],
      "metadata": {
        "id": "cEiLEnImH_EJ"
      },
      "execution_count": null,
      "outputs": []
    },
    {
      "cell_type": "code",
      "source": [
        "model.fit(X_train, y_train, batch_size=64, epochs=78, validation_split = 0.2)"
      ],
      "metadata": {
        "colab": {
          "base_uri": "https://localhost:8080/"
        },
        "id": "e8mXrl9QIL9v",
        "outputId": "878f47ee-226a-4de0-f214-a9c57633172e"
      },
      "execution_count": null,
      "outputs": [
        {
          "output_type": "stream",
          "name": "stdout",
          "text": [
            "Epoch 1/78\n",
            "750/750 [==============================] - 3s 3ms/step - loss: 2.3018 - accuracy: 0.1140 - val_loss: 2.3018 - val_accuracy: 0.1060\n",
            "Epoch 2/78\n",
            "750/750 [==============================] - 3s 4ms/step - loss: 2.3010 - accuracy: 0.1140 - val_loss: 2.3017 - val_accuracy: 0.1060\n",
            "Epoch 3/78\n",
            "750/750 [==============================] - 3s 4ms/step - loss: 2.3008 - accuracy: 0.1140 - val_loss: 2.3017 - val_accuracy: 0.1060\n",
            "Epoch 4/78\n",
            "750/750 [==============================] - 2s 3ms/step - loss: 2.3006 - accuracy: 0.1140 - val_loss: 2.3016 - val_accuracy: 0.1060\n",
            "Epoch 5/78\n",
            "750/750 [==============================] - 2s 3ms/step - loss: 2.3005 - accuracy: 0.1140 - val_loss: 2.3015 - val_accuracy: 0.1060\n",
            "Epoch 6/78\n",
            "750/750 [==============================] - 2s 2ms/step - loss: 2.3003 - accuracy: 0.1140 - val_loss: 2.3013 - val_accuracy: 0.1060\n",
            "Epoch 7/78\n",
            "750/750 [==============================] - 2s 2ms/step - loss: 2.3002 - accuracy: 0.1140 - val_loss: 2.3012 - val_accuracy: 0.1060\n",
            "Epoch 8/78\n",
            "750/750 [==============================] - 2s 2ms/step - loss: 2.3001 - accuracy: 0.1140 - val_loss: 2.3011 - val_accuracy: 0.1060\n",
            "Epoch 9/78\n",
            "750/750 [==============================] - 3s 3ms/step - loss: 2.3000 - accuracy: 0.1140 - val_loss: 2.3009 - val_accuracy: 0.1060\n",
            "Epoch 10/78\n",
            "750/750 [==============================] - 2s 3ms/step - loss: 2.2998 - accuracy: 0.1140 - val_loss: 2.3008 - val_accuracy: 0.1060\n",
            "Epoch 11/78\n",
            "750/750 [==============================] - 2s 3ms/step - loss: 2.2997 - accuracy: 0.1140 - val_loss: 2.3007 - val_accuracy: 0.1060\n",
            "Epoch 12/78\n",
            "750/750 [==============================] - 2s 2ms/step - loss: 2.2996 - accuracy: 0.1140 - val_loss: 2.3006 - val_accuracy: 0.1060\n",
            "Epoch 13/78\n",
            "750/750 [==============================] - 2s 2ms/step - loss: 2.2994 - accuracy: 0.1140 - val_loss: 2.3005 - val_accuracy: 0.1060\n",
            "Epoch 14/78\n",
            "750/750 [==============================] - 2s 3ms/step - loss: 2.2993 - accuracy: 0.1140 - val_loss: 2.3004 - val_accuracy: 0.1060\n",
            "Epoch 15/78\n",
            "750/750 [==============================] - 3s 4ms/step - loss: 2.2992 - accuracy: 0.1140 - val_loss: 2.3002 - val_accuracy: 0.1060\n",
            "Epoch 16/78\n",
            "750/750 [==============================] - 2s 3ms/step - loss: 2.2991 - accuracy: 0.1140 - val_loss: 2.3001 - val_accuracy: 0.1060\n",
            "Epoch 17/78\n",
            "750/750 [==============================] - 2s 2ms/step - loss: 2.2989 - accuracy: 0.1140 - val_loss: 2.3000 - val_accuracy: 0.1060\n",
            "Epoch 18/78\n",
            "750/750 [==============================] - 2s 3ms/step - loss: 2.2988 - accuracy: 0.1140 - val_loss: 2.2999 - val_accuracy: 0.1060\n",
            "Epoch 19/78\n",
            "750/750 [==============================] - 2s 3ms/step - loss: 2.2987 - accuracy: 0.1140 - val_loss: 2.2997 - val_accuracy: 0.1060\n",
            "Epoch 20/78\n",
            "750/750 [==============================] - 2s 3ms/step - loss: 2.2986 - accuracy: 0.1140 - val_loss: 2.2996 - val_accuracy: 0.1060\n",
            "Epoch 21/78\n",
            "750/750 [==============================] - 3s 4ms/step - loss: 2.2984 - accuracy: 0.1140 - val_loss: 2.2994 - val_accuracy: 0.1060\n",
            "Epoch 22/78\n",
            "750/750 [==============================] - 2s 2ms/step - loss: 2.2983 - accuracy: 0.1140 - val_loss: 2.2993 - val_accuracy: 0.1060\n",
            "Epoch 23/78\n",
            "750/750 [==============================] - 2s 2ms/step - loss: 2.2982 - accuracy: 0.1140 - val_loss: 2.2992 - val_accuracy: 0.1060\n",
            "Epoch 24/78\n",
            "750/750 [==============================] - 2s 3ms/step - loss: 2.2981 - accuracy: 0.1140 - val_loss: 2.2991 - val_accuracy: 0.1060\n",
            "Epoch 25/78\n",
            "750/750 [==============================] - 2s 3ms/step - loss: 2.2979 - accuracy: 0.1140 - val_loss: 2.2989 - val_accuracy: 0.1060\n",
            "Epoch 26/78\n",
            "750/750 [==============================] - 2s 3ms/step - loss: 2.2978 - accuracy: 0.1140 - val_loss: 2.2988 - val_accuracy: 0.1060\n",
            "Epoch 27/78\n",
            "750/750 [==============================] - 3s 4ms/step - loss: 2.2977 - accuracy: 0.1140 - val_loss: 2.2987 - val_accuracy: 0.1060\n",
            "Epoch 28/78\n",
            "750/750 [==============================] - 2s 2ms/step - loss: 2.2975 - accuracy: 0.1140 - val_loss: 2.2985 - val_accuracy: 0.1060\n",
            "Epoch 29/78\n",
            "750/750 [==============================] - 2s 3ms/step - loss: 2.2974 - accuracy: 0.1140 - val_loss: 2.2984 - val_accuracy: 0.1060\n",
            "Epoch 30/78\n",
            "750/750 [==============================] - 2s 2ms/step - loss: 2.2973 - accuracy: 0.1140 - val_loss: 2.2983 - val_accuracy: 0.1060\n",
            "Epoch 31/78\n",
            "750/750 [==============================] - 2s 3ms/step - loss: 2.2972 - accuracy: 0.1140 - val_loss: 2.2981 - val_accuracy: 0.1060\n",
            "Epoch 32/78\n",
            "750/750 [==============================] - 2s 3ms/step - loss: 2.2970 - accuracy: 0.1140 - val_loss: 2.2980 - val_accuracy: 0.1060\n",
            "Epoch 33/78\n",
            "750/750 [==============================] - 3s 4ms/step - loss: 2.2969 - accuracy: 0.1140 - val_loss: 2.2979 - val_accuracy: 0.1060\n",
            "Epoch 34/78\n",
            "750/750 [==============================] - 2s 3ms/step - loss: 2.2968 - accuracy: 0.1140 - val_loss: 2.2978 - val_accuracy: 0.1060\n",
            "Epoch 35/78\n",
            "750/750 [==============================] - 3s 4ms/step - loss: 2.2967 - accuracy: 0.1140 - val_loss: 2.2976 - val_accuracy: 0.1060\n",
            "Epoch 36/78\n",
            "750/750 [==============================] - 3s 4ms/step - loss: 2.2965 - accuracy: 0.1140 - val_loss: 2.2975 - val_accuracy: 0.1060\n",
            "Epoch 37/78\n",
            "750/750 [==============================] - 4s 5ms/step - loss: 2.2964 - accuracy: 0.1140 - val_loss: 2.2974 - val_accuracy: 0.1060\n",
            "Epoch 38/78\n",
            "750/750 [==============================] - 3s 3ms/step - loss: 2.2963 - accuracy: 0.1140 - val_loss: 2.2972 - val_accuracy: 0.1060\n",
            "Epoch 39/78\n",
            "750/750 [==============================] - 2s 3ms/step - loss: 2.2962 - accuracy: 0.1140 - val_loss: 2.2971 - val_accuracy: 0.1060\n",
            "Epoch 40/78\n",
            "750/750 [==============================] - 2s 3ms/step - loss: 2.2960 - accuracy: 0.1140 - val_loss: 2.2970 - val_accuracy: 0.1060\n",
            "Epoch 41/78\n",
            "750/750 [==============================] - 2s 3ms/step - loss: 2.2959 - accuracy: 0.1140 - val_loss: 2.2968 - val_accuracy: 0.1060\n",
            "Epoch 42/78\n",
            "750/750 [==============================] - 2s 3ms/step - loss: 2.2958 - accuracy: 0.1140 - val_loss: 2.2968 - val_accuracy: 0.1060\n",
            "Epoch 43/78\n",
            "750/750 [==============================] - 3s 4ms/step - loss: 2.2957 - accuracy: 0.1140 - val_loss: 2.2966 - val_accuracy: 0.1060\n",
            "Epoch 44/78\n",
            "750/750 [==============================] - 2s 2ms/step - loss: 2.2955 - accuracy: 0.1140 - val_loss: 2.2965 - val_accuracy: 0.1060\n",
            "Epoch 45/78\n",
            "750/750 [==============================] - 2s 3ms/step - loss: 2.2954 - accuracy: 0.1140 - val_loss: 2.2964 - val_accuracy: 0.1060\n",
            "Epoch 46/78\n",
            "750/750 [==============================] - 2s 3ms/step - loss: 2.2953 - accuracy: 0.1140 - val_loss: 2.2962 - val_accuracy: 0.1060\n",
            "Epoch 47/78\n",
            "750/750 [==============================] - 2s 3ms/step - loss: 2.2951 - accuracy: 0.1140 - val_loss: 2.2961 - val_accuracy: 0.1060\n",
            "Epoch 48/78\n",
            "750/750 [==============================] - 3s 3ms/step - loss: 2.2950 - accuracy: 0.1140 - val_loss: 2.2959 - val_accuracy: 0.1060\n",
            "Epoch 49/78\n",
            "750/750 [==============================] - 3s 3ms/step - loss: 2.2949 - accuracy: 0.1140 - val_loss: 2.2958 - val_accuracy: 0.1060\n",
            "Epoch 50/78\n",
            "750/750 [==============================] - 2s 3ms/step - loss: 2.2948 - accuracy: 0.1140 - val_loss: 2.2957 - val_accuracy: 0.1060\n",
            "Epoch 51/78\n",
            "750/750 [==============================] - 2s 2ms/step - loss: 2.2946 - accuracy: 0.1140 - val_loss: 2.2956 - val_accuracy: 0.1060\n",
            "Epoch 52/78\n",
            "750/750 [==============================] - 2s 3ms/step - loss: 2.2945 - accuracy: 0.1140 - val_loss: 2.2954 - val_accuracy: 0.1060\n",
            "Epoch 53/78\n",
            "750/750 [==============================] - 2s 3ms/step - loss: 2.2944 - accuracy: 0.1140 - val_loss: 2.2953 - val_accuracy: 0.1060\n",
            "Epoch 54/78\n",
            "750/750 [==============================] - 3s 4ms/step - loss: 2.2943 - accuracy: 0.1140 - val_loss: 2.2952 - val_accuracy: 0.1060\n",
            "Epoch 55/78\n",
            "750/750 [==============================] - 2s 3ms/step - loss: 2.2941 - accuracy: 0.1140 - val_loss: 2.2950 - val_accuracy: 0.1060\n",
            "Epoch 56/78\n",
            "750/750 [==============================] - 2s 2ms/step - loss: 2.2940 - accuracy: 0.1140 - val_loss: 2.2949 - val_accuracy: 0.1060\n",
            "Epoch 57/78\n",
            "750/750 [==============================] - 2s 3ms/step - loss: 2.2939 - accuracy: 0.1140 - val_loss: 2.2948 - val_accuracy: 0.1060\n",
            "Epoch 58/78\n",
            "750/750 [==============================] - 2s 3ms/step - loss: 2.2938 - accuracy: 0.1140 - val_loss: 2.2947 - val_accuracy: 0.1060\n",
            "Epoch 59/78\n",
            "750/750 [==============================] - 2s 3ms/step - loss: 2.2936 - accuracy: 0.1140 - val_loss: 2.2946 - val_accuracy: 0.1060\n",
            "Epoch 60/78\n",
            "750/750 [==============================] - 3s 3ms/step - loss: 2.2935 - accuracy: 0.1140 - val_loss: 2.2944 - val_accuracy: 0.1060\n",
            "Epoch 61/78\n",
            "750/750 [==============================] - 3s 3ms/step - loss: 2.2934 - accuracy: 0.1140 - val_loss: 2.2943 - val_accuracy: 0.1060\n",
            "Epoch 62/78\n",
            "750/750 [==============================] - 2s 2ms/step - loss: 2.2933 - accuracy: 0.1140 - val_loss: 2.2941 - val_accuracy: 0.1060\n",
            "Epoch 63/78\n",
            "750/750 [==============================] - 2s 2ms/step - loss: 2.2931 - accuracy: 0.1140 - val_loss: 2.2940 - val_accuracy: 0.1060\n",
            "Epoch 64/78\n",
            "750/750 [==============================] - 2s 2ms/step - loss: 2.2930 - accuracy: 0.1140 - val_loss: 2.2939 - val_accuracy: 0.1060\n",
            "Epoch 65/78\n",
            "750/750 [==============================] - 2s 3ms/step - loss: 2.2929 - accuracy: 0.1140 - val_loss: 2.2937 - val_accuracy: 0.1060\n",
            "Epoch 66/78\n",
            "750/750 [==============================] - 3s 4ms/step - loss: 2.2927 - accuracy: 0.1140 - val_loss: 2.2936 - val_accuracy: 0.1060\n",
            "Epoch 67/78\n",
            "750/750 [==============================] - 2s 3ms/step - loss: 2.2926 - accuracy: 0.1140 - val_loss: 2.2935 - val_accuracy: 0.1060\n",
            "Epoch 68/78\n",
            "750/750 [==============================] - 2s 3ms/step - loss: 2.2925 - accuracy: 0.1140 - val_loss: 2.2934 - val_accuracy: 0.1060\n",
            "Epoch 69/78\n",
            "750/750 [==============================] - 2s 3ms/step - loss: 2.2924 - accuracy: 0.1140 - val_loss: 2.2932 - val_accuracy: 0.1060\n",
            "Epoch 70/78\n",
            "750/750 [==============================] - 2s 2ms/step - loss: 2.2922 - accuracy: 0.1140 - val_loss: 2.2931 - val_accuracy: 0.1060\n",
            "Epoch 71/78\n",
            "750/750 [==============================] - 2s 3ms/step - loss: 2.2921 - accuracy: 0.1140 - val_loss: 2.2930 - val_accuracy: 0.1060\n",
            "Epoch 72/78\n",
            "750/750 [==============================] - 3s 4ms/step - loss: 2.2920 - accuracy: 0.1140 - val_loss: 2.2929 - val_accuracy: 0.1060\n",
            "Epoch 73/78\n",
            "750/750 [==============================] - 2s 3ms/step - loss: 2.2919 - accuracy: 0.1140 - val_loss: 2.2927 - val_accuracy: 0.1060\n",
            "Epoch 74/78\n",
            "750/750 [==============================] - 2s 2ms/step - loss: 2.2917 - accuracy: 0.1140 - val_loss: 2.2926 - val_accuracy: 0.1060\n",
            "Epoch 75/78\n",
            "750/750 [==============================] - 2s 3ms/step - loss: 2.2916 - accuracy: 0.1140 - val_loss: 2.2925 - val_accuracy: 0.1060\n",
            "Epoch 76/78\n",
            "750/750 [==============================] - 2s 3ms/step - loss: 2.2915 - accuracy: 0.1140 - val_loss: 2.2923 - val_accuracy: 0.1060\n",
            "Epoch 77/78\n",
            "750/750 [==============================] - 2s 3ms/step - loss: 2.2913 - accuracy: 0.1140 - val_loss: 2.2922 - val_accuracy: 0.1060\n",
            "Epoch 78/78\n",
            "750/750 [==============================] - 3s 4ms/step - loss: 2.2912 - accuracy: 0.1140 - val_loss: 2.2921 - val_accuracy: 0.1060\n"
          ]
        },
        {
          "output_type": "execute_result",
          "data": {
            "text/plain": [
              "<keras.callbacks.History at 0x7fd93bebf580>"
            ]
          },
          "metadata": {},
          "execution_count": 34
        }
      ]
    },
    {
      "cell_type": "code",
      "source": [
        "model.evaluate(X_test,y_test)"
      ],
      "metadata": {
        "id": "V7Qg5yIzJRlH"
      },
      "execution_count": null,
      "outputs": []
    }
  ]
}