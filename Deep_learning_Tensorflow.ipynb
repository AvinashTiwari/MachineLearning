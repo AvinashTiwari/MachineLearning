{
  "cells": [
    {
      "cell_type": "markdown",
      "metadata": {
        "id": "view-in-github",
        "colab_type": "text"
      },
      "source": [
        "<a href=\"https://colab.research.google.com/github/AvinashTiwari/MachineLearning/blob/master/Deep_learning_Tensorflow.ipynb\" target=\"_parent\"><img src=\"https://colab.research.google.com/assets/colab-badge.svg\" alt=\"Open In Colab\"/></a>"
      ]
    },
    {
      "cell_type": "code",
      "execution_count": 1,
      "metadata": {
        "colab": {
          "base_uri": "https://localhost:8080/"
        },
        "id": "kISxq_bJFcqX",
        "outputId": "55e64a4b-d126-456c-ee44-626b699f18a8"
      },
      "outputs": [
        {
          "output_type": "stream",
          "name": "stdout",
          "text": [
            "Looking in indexes: https://pypi.org/simple, https://us-python.pkg.dev/colab-wheels/public/simple/\n",
            "Requirement already satisfied: tensorflow in /usr/local/lib/python3.9/dist-packages (2.11.0)\n",
            "Requirement already satisfied: keras<2.12,>=2.11.0 in /usr/local/lib/python3.9/dist-packages (from tensorflow) (2.11.0)\n",
            "Requirement already satisfied: libclang>=13.0.0 in /usr/local/lib/python3.9/dist-packages (from tensorflow) (15.0.6.1)\n",
            "Requirement already satisfied: flatbuffers>=2.0 in /usr/local/lib/python3.9/dist-packages (from tensorflow) (23.3.3)\n",
            "Requirement already satisfied: wrapt>=1.11.0 in /usr/local/lib/python3.9/dist-packages (from tensorflow) (1.15.0)\n",
            "Requirement already satisfied: google-pasta>=0.1.1 in /usr/local/lib/python3.9/dist-packages (from tensorflow) (0.2.0)\n",
            "Requirement already satisfied: grpcio<2.0,>=1.24.3 in /usr/local/lib/python3.9/dist-packages (from tensorflow) (1.51.3)\n",
            "Requirement already satisfied: tensorflow-io-gcs-filesystem>=0.23.1 in /usr/local/lib/python3.9/dist-packages (from tensorflow) (0.31.0)\n",
            "Requirement already satisfied: six>=1.12.0 in /usr/local/lib/python3.9/dist-packages (from tensorflow) (1.16.0)\n",
            "Requirement already satisfied: termcolor>=1.1.0 in /usr/local/lib/python3.9/dist-packages (from tensorflow) (2.2.0)\n",
            "Requirement already satisfied: h5py>=2.9.0 in /usr/local/lib/python3.9/dist-packages (from tensorflow) (3.8.0)\n",
            "Requirement already satisfied: gast<=0.4.0,>=0.2.1 in /usr/local/lib/python3.9/dist-packages (from tensorflow) (0.4.0)\n",
            "Requirement already satisfied: tensorboard<2.12,>=2.11 in /usr/local/lib/python3.9/dist-packages (from tensorflow) (2.11.2)\n",
            "Requirement already satisfied: astunparse>=1.6.0 in /usr/local/lib/python3.9/dist-packages (from tensorflow) (1.6.3)\n",
            "Requirement already satisfied: opt-einsum>=2.3.2 in /usr/local/lib/python3.9/dist-packages (from tensorflow) (3.3.0)\n",
            "Requirement already satisfied: absl-py>=1.0.0 in /usr/local/lib/python3.9/dist-packages (from tensorflow) (1.4.0)\n",
            "Requirement already satisfied: packaging in /usr/local/lib/python3.9/dist-packages (from tensorflow) (23.0)\n",
            "Requirement already satisfied: protobuf<3.20,>=3.9.2 in /usr/local/lib/python3.9/dist-packages (from tensorflow) (3.19.6)\n",
            "Requirement already satisfied: tensorflow-estimator<2.12,>=2.11.0 in /usr/local/lib/python3.9/dist-packages (from tensorflow) (2.11.0)\n",
            "Requirement already satisfied: setuptools in /usr/local/lib/python3.9/dist-packages (from tensorflow) (63.4.3)\n",
            "Requirement already satisfied: typing-extensions>=3.6.6 in /usr/local/lib/python3.9/dist-packages (from tensorflow) (4.5.0)\n",
            "Requirement already satisfied: numpy>=1.20 in /usr/local/lib/python3.9/dist-packages (from tensorflow) (1.22.4)\n",
            "Requirement already satisfied: wheel<1.0,>=0.23.0 in /usr/local/lib/python3.9/dist-packages (from astunparse>=1.6.0->tensorflow) (0.40.0)\n",
            "Requirement already satisfied: google-auth-oauthlib<0.5,>=0.4.1 in /usr/local/lib/python3.9/dist-packages (from tensorboard<2.12,>=2.11->tensorflow) (0.4.6)\n",
            "Requirement already satisfied: google-auth<3,>=1.6.3 in /usr/local/lib/python3.9/dist-packages (from tensorboard<2.12,>=2.11->tensorflow) (2.16.2)\n",
            "Requirement already satisfied: requests<3,>=2.21.0 in /usr/local/lib/python3.9/dist-packages (from tensorboard<2.12,>=2.11->tensorflow) (2.27.1)\n",
            "Requirement already satisfied: tensorboard-plugin-wit>=1.6.0 in /usr/local/lib/python3.9/dist-packages (from tensorboard<2.12,>=2.11->tensorflow) (1.8.1)\n",
            "Requirement already satisfied: werkzeug>=1.0.1 in /usr/local/lib/python3.9/dist-packages (from tensorboard<2.12,>=2.11->tensorflow) (2.2.3)\n",
            "Requirement already satisfied: tensorboard-data-server<0.7.0,>=0.6.0 in /usr/local/lib/python3.9/dist-packages (from tensorboard<2.12,>=2.11->tensorflow) (0.6.1)\n",
            "Requirement already satisfied: markdown>=2.6.8 in /usr/local/lib/python3.9/dist-packages (from tensorboard<2.12,>=2.11->tensorflow) (3.4.1)\n",
            "Requirement already satisfied: rsa<5,>=3.1.4 in /usr/local/lib/python3.9/dist-packages (from google-auth<3,>=1.6.3->tensorboard<2.12,>=2.11->tensorflow) (4.9)\n",
            "Requirement already satisfied: pyasn1-modules>=0.2.1 in /usr/local/lib/python3.9/dist-packages (from google-auth<3,>=1.6.3->tensorboard<2.12,>=2.11->tensorflow) (0.2.8)\n",
            "Requirement already satisfied: cachetools<6.0,>=2.0.0 in /usr/local/lib/python3.9/dist-packages (from google-auth<3,>=1.6.3->tensorboard<2.12,>=2.11->tensorflow) (5.3.0)\n",
            "Requirement already satisfied: requests-oauthlib>=0.7.0 in /usr/local/lib/python3.9/dist-packages (from google-auth-oauthlib<0.5,>=0.4.1->tensorboard<2.12,>=2.11->tensorflow) (1.3.1)\n",
            "Requirement already satisfied: importlib-metadata>=4.4 in /usr/local/lib/python3.9/dist-packages (from markdown>=2.6.8->tensorboard<2.12,>=2.11->tensorflow) (6.0.0)\n",
            "Requirement already satisfied: urllib3<1.27,>=1.21.1 in /usr/local/lib/python3.9/dist-packages (from requests<3,>=2.21.0->tensorboard<2.12,>=2.11->tensorflow) (1.26.15)\n",
            "Requirement already satisfied: idna<4,>=2.5 in /usr/local/lib/python3.9/dist-packages (from requests<3,>=2.21.0->tensorboard<2.12,>=2.11->tensorflow) (3.4)\n",
            "Requirement already satisfied: charset-normalizer~=2.0.0 in /usr/local/lib/python3.9/dist-packages (from requests<3,>=2.21.0->tensorboard<2.12,>=2.11->tensorflow) (2.0.12)\n",
            "Requirement already satisfied: certifi>=2017.4.17 in /usr/local/lib/python3.9/dist-packages (from requests<3,>=2.21.0->tensorboard<2.12,>=2.11->tensorflow) (2022.12.7)\n",
            "Requirement already satisfied: MarkupSafe>=2.1.1 in /usr/local/lib/python3.9/dist-packages (from werkzeug>=1.0.1->tensorboard<2.12,>=2.11->tensorflow) (2.1.2)\n",
            "Requirement already satisfied: zipp>=0.5 in /usr/local/lib/python3.9/dist-packages (from importlib-metadata>=4.4->markdown>=2.6.8->tensorboard<2.12,>=2.11->tensorflow) (3.15.0)\n",
            "Requirement already satisfied: pyasn1<0.5.0,>=0.4.6 in /usr/local/lib/python3.9/dist-packages (from pyasn1-modules>=0.2.1->google-auth<3,>=1.6.3->tensorboard<2.12,>=2.11->tensorflow) (0.4.8)\n",
            "Requirement already satisfied: oauthlib>=3.0.0 in /usr/local/lib/python3.9/dist-packages (from requests-oauthlib>=0.7.0->google-auth-oauthlib<0.5,>=0.4.1->tensorboard<2.12,>=2.11->tensorflow) (3.2.2)\n"
          ]
        }
      ],
      "source": [
        "!pip install tensorflow"
      ]
    },
    {
      "cell_type": "code",
      "execution_count": 2,
      "metadata": {
        "id": "mtRLOQhGFn2b"
      },
      "outputs": [],
      "source": [
        "import tensorflow as tf"
      ]
    },
    {
      "cell_type": "code",
      "execution_count": 3,
      "metadata": {
        "id": "MjmtPg63FsQU"
      },
      "outputs": [],
      "source": [
        "from tensorflow import keras"
      ]
    },
    {
      "cell_type": "code",
      "execution_count": 4,
      "metadata": {
        "colab": {
          "base_uri": "https://localhost:8080/",
          "height": 36
        },
        "id": "IkcfPbcyFxkF",
        "outputId": "9e4fa24c-05f7-439a-f585-fbd244225c1c"
      },
      "outputs": [
        {
          "output_type": "execute_result",
          "data": {
            "text/plain": [
              "'2.11.0'"
            ],
            "application/vnd.google.colaboratory.intrinsic+json": {
              "type": "string"
            }
          },
          "metadata": {},
          "execution_count": 4
        }
      ],
      "source": [
        "tf.__version__"
      ]
    },
    {
      "cell_type": "code",
      "execution_count": 5,
      "metadata": {
        "colab": {
          "base_uri": "https://localhost:8080/"
        },
        "id": "goSv15AIF0UZ",
        "outputId": "d463d87b-48cd-4faa-92ed-cad08ce2b63e"
      },
      "outputs": [
        {
          "output_type": "stream",
          "name": "stdout",
          "text": [
            "Downloading data from https://storage.googleapis.com/tensorflow/tf-keras-datasets/mnist.npz\n",
            "11490434/11490434 [==============================] - 1s 0us/step\n"
          ]
        }
      ],
      "source": [
        "mnist = keras.datasets.mnist\n",
        "(X_train, y_train) ,(X_test,y_test) = mnist.load_data()"
      ]
    },
    {
      "cell_type": "code",
      "execution_count": 6,
      "metadata": {
        "colab": {
          "base_uri": "https://localhost:8080/"
        },
        "id": "_eZ9dQTIF4LJ",
        "outputId": "f06580a4-12e6-45de-8f91-66be4c30f460"
      },
      "outputs": [
        {
          "output_type": "execute_result",
          "data": {
            "text/plain": [
              "(60000, 28, 28)"
            ]
          },
          "metadata": {},
          "execution_count": 6
        }
      ],
      "source": [
        "X_train.shape"
      ]
    },
    {
      "cell_type": "code",
      "execution_count": 7,
      "metadata": {
        "colab": {
          "base_uri": "https://localhost:8080/"
        },
        "id": "GDlMZOvWGO8H",
        "outputId": "3d068bd9-5c55-41fe-acc3-4412add11316"
      },
      "outputs": [
        {
          "output_type": "execute_result",
          "data": {
            "text/plain": [
              "(10000, 28, 28)"
            ]
          },
          "metadata": {},
          "execution_count": 7
        }
      ],
      "source": [
        "X_test.shape"
      ]
    },
    {
      "cell_type": "code",
      "execution_count": 8,
      "metadata": {
        "id": "xCJyRymvGR0R"
      },
      "outputs": [],
      "source": [
        "X_train = X_train.astype(\"float32\")\n",
        "X_test = X_test.astype(\"float32\")"
      ]
    },
    {
      "cell_type": "code",
      "execution_count": 9,
      "metadata": {
        "id": "yOS6mkqdGck-"
      },
      "outputs": [],
      "source": [
        "reshaped = 28*28"
      ]
    },
    {
      "cell_type": "code",
      "execution_count": 10,
      "metadata": {
        "id": "Pdk-ObuBGeyU"
      },
      "outputs": [],
      "source": [
        "X_train = X_train.reshape(60000, reshaped)\n",
        "X_test = X_test.reshape(10000,reshaped )\n",
        "X_train /= 255\n",
        "X_test /=255\n",
        "\n",
        "y_train = tf.keras.utils.to_categorical(y_train,10)\n",
        "y_test = tf.keras.utils.to_categorical(y_test,10)"
      ]
    },
    {
      "cell_type": "code",
      "execution_count": 11,
      "metadata": {
        "id": "pu21qZLMHH_o"
      },
      "outputs": [],
      "source": [
        "from tensorflow.keras import Sequential\n",
        "from  tensorflow.keras.layers import Dense"
      ]
    },
    {
      "cell_type": "code",
      "execution_count": 11,
      "metadata": {
        "id": "zbgpQkOEH-S5"
      },
      "outputs": [],
      "source": []
    },
    {
      "cell_type": "code",
      "execution_count": 12,
      "metadata": {
        "colab": {
          "base_uri": "https://localhost:8080/"
        },
        "id": "mXd38NXqHan1",
        "outputId": "d8180f52-e634-4e4f-89e0-621b7dc002c7"
      },
      "outputs": [
        {
          "output_type": "stream",
          "name": "stdout",
          "text": [
            "Model: \"sequential\"\n",
            "_________________________________________________________________\n",
            " Layer (type)                Output Shape              Param #   \n",
            "=================================================================\n",
            " dense (Dense)               (None, 10)                7850      \n",
            "                                                                 \n",
            "=================================================================\n",
            "Total params: 7,850\n",
            "Trainable params: 7,850\n",
            "Non-trainable params: 0\n",
            "_________________________________________________________________\n"
          ]
        }
      ],
      "source": [
        "from keras import activations\n",
        "model = Sequential()\n",
        "model.add(Dense(10, input_shape=(784,), activation=\"softmax\"))\n",
        "model.summary()"
      ]
    },
    {
      "cell_type": "code",
      "execution_count": 13,
      "metadata": {
        "id": "cEiLEnImH_EJ"
      },
      "outputs": [],
      "source": [
        "model.compile(optimizer=\"SGD\",\n",
        "              loss =\"categorical_crossentropy\",\n",
        "              metrics=\"accuracy\")"
      ]
    },
    {
      "cell_type": "code",
      "execution_count": 14,
      "metadata": {
        "colab": {
          "base_uri": "https://localhost:8080/"
        },
        "id": "e8mXrl9QIL9v",
        "outputId": "00a6132d-1dfe-4a80-8d13-04151bfb6dab"
      },
      "outputs": [
        {
          "output_type": "stream",
          "name": "stdout",
          "text": [
            "Epoch 1/78\n",
            "750/750 [==============================] - 7s 9ms/step - loss: 1.0782 - accuracy: 0.7535 - val_loss: 0.6532 - val_accuracy: 0.8608\n",
            "Epoch 2/78\n",
            "750/750 [==============================] - 2s 3ms/step - loss: 0.6044 - accuracy: 0.8570 - val_loss: 0.5078 - val_accuracy: 0.8786\n",
            "Epoch 3/78\n",
            "750/750 [==============================] - 2s 2ms/step - loss: 0.5103 - accuracy: 0.8719 - val_loss: 0.4505 - val_accuracy: 0.8874\n",
            "Epoch 4/78\n",
            "750/750 [==============================] - 2s 2ms/step - loss: 0.4646 - accuracy: 0.8799 - val_loss: 0.4182 - val_accuracy: 0.8933\n",
            "Epoch 5/78\n",
            "750/750 [==============================] - 2s 2ms/step - loss: 0.4364 - accuracy: 0.8851 - val_loss: 0.3977 - val_accuracy: 0.8967\n",
            "Epoch 6/78\n",
            "750/750 [==============================] - 2s 3ms/step - loss: 0.4168 - accuracy: 0.8884 - val_loss: 0.3826 - val_accuracy: 0.8983\n",
            "Epoch 7/78\n",
            "750/750 [==============================] - 2s 2ms/step - loss: 0.4021 - accuracy: 0.8913 - val_loss: 0.3711 - val_accuracy: 0.9006\n",
            "Epoch 8/78\n",
            "750/750 [==============================] - 2s 2ms/step - loss: 0.3905 - accuracy: 0.8932 - val_loss: 0.3624 - val_accuracy: 0.9022\n",
            "Epoch 9/78\n",
            "750/750 [==============================] - 2s 2ms/step - loss: 0.3812 - accuracy: 0.8957 - val_loss: 0.3550 - val_accuracy: 0.9034\n",
            "Epoch 10/78\n",
            "750/750 [==============================] - 2s 2ms/step - loss: 0.3733 - accuracy: 0.8976 - val_loss: 0.3486 - val_accuracy: 0.9061\n",
            "Epoch 11/78\n",
            "750/750 [==============================] - 2s 2ms/step - loss: 0.3666 - accuracy: 0.8992 - val_loss: 0.3432 - val_accuracy: 0.9072\n",
            "Epoch 12/78\n",
            "750/750 [==============================] - 2s 2ms/step - loss: 0.3608 - accuracy: 0.9000 - val_loss: 0.3388 - val_accuracy: 0.9078\n",
            "Epoch 13/78\n",
            "750/750 [==============================] - 2s 3ms/step - loss: 0.3558 - accuracy: 0.9015 - val_loss: 0.3346 - val_accuracy: 0.9085\n",
            "Epoch 14/78\n",
            "750/750 [==============================] - 2s 3ms/step - loss: 0.3513 - accuracy: 0.9028 - val_loss: 0.3309 - val_accuracy: 0.9101\n",
            "Epoch 15/78\n",
            "750/750 [==============================] - 2s 2ms/step - loss: 0.3472 - accuracy: 0.9040 - val_loss: 0.3280 - val_accuracy: 0.9103\n",
            "Epoch 16/78\n",
            "750/750 [==============================] - 2s 2ms/step - loss: 0.3436 - accuracy: 0.9044 - val_loss: 0.3250 - val_accuracy: 0.9111\n",
            "Epoch 17/78\n",
            "750/750 [==============================] - 2s 2ms/step - loss: 0.3403 - accuracy: 0.9055 - val_loss: 0.3223 - val_accuracy: 0.9113\n",
            "Epoch 18/78\n",
            "750/750 [==============================] - 2s 2ms/step - loss: 0.3372 - accuracy: 0.9064 - val_loss: 0.3200 - val_accuracy: 0.9120\n",
            "Epoch 19/78\n",
            "750/750 [==============================] - 2s 2ms/step - loss: 0.3345 - accuracy: 0.9072 - val_loss: 0.3176 - val_accuracy: 0.9122\n",
            "Epoch 20/78\n",
            "750/750 [==============================] - 2s 2ms/step - loss: 0.3320 - accuracy: 0.9080 - val_loss: 0.3157 - val_accuracy: 0.9125\n",
            "Epoch 21/78\n",
            "750/750 [==============================] - 2s 3ms/step - loss: 0.3294 - accuracy: 0.9087 - val_loss: 0.3143 - val_accuracy: 0.9126\n",
            "Epoch 22/78\n",
            "750/750 [==============================] - 2s 2ms/step - loss: 0.3273 - accuracy: 0.9094 - val_loss: 0.3122 - val_accuracy: 0.9142\n",
            "Epoch 23/78\n",
            "750/750 [==============================] - 2s 2ms/step - loss: 0.3253 - accuracy: 0.9097 - val_loss: 0.3107 - val_accuracy: 0.9141\n",
            "Epoch 24/78\n",
            "750/750 [==============================] - 2s 2ms/step - loss: 0.3233 - accuracy: 0.9099 - val_loss: 0.3091 - val_accuracy: 0.9143\n",
            "Epoch 25/78\n",
            "750/750 [==============================] - 2s 2ms/step - loss: 0.3216 - accuracy: 0.9103 - val_loss: 0.3076 - val_accuracy: 0.9152\n",
            "Epoch 26/78\n",
            "750/750 [==============================] - 2s 2ms/step - loss: 0.3197 - accuracy: 0.9111 - val_loss: 0.3067 - val_accuracy: 0.9146\n",
            "Epoch 27/78\n",
            "750/750 [==============================] - 2s 2ms/step - loss: 0.3182 - accuracy: 0.9112 - val_loss: 0.3053 - val_accuracy: 0.9155\n",
            "Epoch 28/78\n",
            "750/750 [==============================] - 2s 3ms/step - loss: 0.3166 - accuracy: 0.9117 - val_loss: 0.3038 - val_accuracy: 0.9158\n",
            "Epoch 29/78\n",
            "750/750 [==============================] - 2s 3ms/step - loss: 0.3152 - accuracy: 0.9125 - val_loss: 0.3027 - val_accuracy: 0.9161\n",
            "Epoch 30/78\n",
            "750/750 [==============================] - 2s 2ms/step - loss: 0.3138 - accuracy: 0.9129 - val_loss: 0.3018 - val_accuracy: 0.9163\n",
            "Epoch 31/78\n",
            "750/750 [==============================] - 2s 2ms/step - loss: 0.3125 - accuracy: 0.9131 - val_loss: 0.3007 - val_accuracy: 0.9162\n",
            "Epoch 32/78\n",
            "750/750 [==============================] - 2s 2ms/step - loss: 0.3112 - accuracy: 0.9138 - val_loss: 0.2998 - val_accuracy: 0.9164\n",
            "Epoch 33/78\n",
            "750/750 [==============================] - 2s 2ms/step - loss: 0.3100 - accuracy: 0.9135 - val_loss: 0.2989 - val_accuracy: 0.9175\n",
            "Epoch 34/78\n",
            "750/750 [==============================] - 2s 2ms/step - loss: 0.3089 - accuracy: 0.9144 - val_loss: 0.2981 - val_accuracy: 0.9174\n",
            "Epoch 35/78\n",
            "750/750 [==============================] - 2s 3ms/step - loss: 0.3078 - accuracy: 0.9144 - val_loss: 0.2972 - val_accuracy: 0.9173\n",
            "Epoch 36/78\n",
            "750/750 [==============================] - 2s 3ms/step - loss: 0.3067 - accuracy: 0.9146 - val_loss: 0.2966 - val_accuracy: 0.9173\n",
            "Epoch 37/78\n",
            "750/750 [==============================] - 2s 2ms/step - loss: 0.3057 - accuracy: 0.9147 - val_loss: 0.2959 - val_accuracy: 0.9174\n",
            "Epoch 38/78\n",
            "750/750 [==============================] - 2s 2ms/step - loss: 0.3048 - accuracy: 0.9156 - val_loss: 0.2949 - val_accuracy: 0.9178\n",
            "Epoch 39/78\n",
            "750/750 [==============================] - 2s 2ms/step - loss: 0.3038 - accuracy: 0.9153 - val_loss: 0.2943 - val_accuracy: 0.9180\n",
            "Epoch 40/78\n",
            "750/750 [==============================] - 2s 2ms/step - loss: 0.3028 - accuracy: 0.9158 - val_loss: 0.2938 - val_accuracy: 0.9179\n",
            "Epoch 41/78\n",
            "750/750 [==============================] - 2s 2ms/step - loss: 0.3020 - accuracy: 0.9156 - val_loss: 0.2929 - val_accuracy: 0.9180\n",
            "Epoch 42/78\n",
            "750/750 [==============================] - 2s 3ms/step - loss: 0.3012 - accuracy: 0.9158 - val_loss: 0.2923 - val_accuracy: 0.9174\n",
            "Epoch 43/78\n",
            "750/750 [==============================] - 2s 3ms/step - loss: 0.3004 - accuracy: 0.9159 - val_loss: 0.2919 - val_accuracy: 0.9179\n",
            "Epoch 44/78\n",
            "750/750 [==============================] - 2s 3ms/step - loss: 0.2996 - accuracy: 0.9167 - val_loss: 0.2912 - val_accuracy: 0.9187\n",
            "Epoch 45/78\n",
            "750/750 [==============================] - 2s 2ms/step - loss: 0.2989 - accuracy: 0.9167 - val_loss: 0.2907 - val_accuracy: 0.9184\n",
            "Epoch 46/78\n",
            "750/750 [==============================] - 2s 2ms/step - loss: 0.2982 - accuracy: 0.9168 - val_loss: 0.2901 - val_accuracy: 0.9188\n",
            "Epoch 47/78\n",
            "750/750 [==============================] - 2s 2ms/step - loss: 0.2974 - accuracy: 0.9171 - val_loss: 0.2897 - val_accuracy: 0.9187\n",
            "Epoch 48/78\n",
            "750/750 [==============================] - 2s 2ms/step - loss: 0.2967 - accuracy: 0.9174 - val_loss: 0.2891 - val_accuracy: 0.9196\n",
            "Epoch 49/78\n",
            "750/750 [==============================] - 2s 3ms/step - loss: 0.2961 - accuracy: 0.9175 - val_loss: 0.2888 - val_accuracy: 0.9191\n",
            "Epoch 50/78\n",
            "750/750 [==============================] - 2s 3ms/step - loss: 0.2954 - accuracy: 0.9179 - val_loss: 0.2884 - val_accuracy: 0.9187\n",
            "Epoch 51/78\n",
            "750/750 [==============================] - 2s 2ms/step - loss: 0.2948 - accuracy: 0.9177 - val_loss: 0.2878 - val_accuracy: 0.9195\n",
            "Epoch 52/78\n",
            "750/750 [==============================] - 2s 2ms/step - loss: 0.2942 - accuracy: 0.9181 - val_loss: 0.2874 - val_accuracy: 0.9199\n",
            "Epoch 53/78\n",
            "750/750 [==============================] - 2s 2ms/step - loss: 0.2935 - accuracy: 0.9181 - val_loss: 0.2871 - val_accuracy: 0.9195\n",
            "Epoch 54/78\n",
            "750/750 [==============================] - 2s 2ms/step - loss: 0.2930 - accuracy: 0.9185 - val_loss: 0.2865 - val_accuracy: 0.9195\n",
            "Epoch 55/78\n",
            "750/750 [==============================] - 2s 2ms/step - loss: 0.2924 - accuracy: 0.9185 - val_loss: 0.2861 - val_accuracy: 0.9197\n",
            "Epoch 56/78\n",
            "750/750 [==============================] - 2s 2ms/step - loss: 0.2919 - accuracy: 0.9188 - val_loss: 0.2857 - val_accuracy: 0.9198\n",
            "Epoch 57/78\n",
            "750/750 [==============================] - 3s 3ms/step - loss: 0.2914 - accuracy: 0.9188 - val_loss: 0.2853 - val_accuracy: 0.9204\n",
            "Epoch 58/78\n",
            "750/750 [==============================] - 2s 2ms/step - loss: 0.2908 - accuracy: 0.9194 - val_loss: 0.2851 - val_accuracy: 0.9202\n",
            "Epoch 59/78\n",
            "750/750 [==============================] - 2s 2ms/step - loss: 0.2903 - accuracy: 0.9190 - val_loss: 0.2848 - val_accuracy: 0.9197\n",
            "Epoch 60/78\n",
            "750/750 [==============================] - 2s 2ms/step - loss: 0.2898 - accuracy: 0.9196 - val_loss: 0.2843 - val_accuracy: 0.9201\n",
            "Epoch 61/78\n",
            "750/750 [==============================] - 2s 2ms/step - loss: 0.2892 - accuracy: 0.9194 - val_loss: 0.2840 - val_accuracy: 0.9208\n",
            "Epoch 62/78\n",
            "750/750 [==============================] - 2s 2ms/step - loss: 0.2889 - accuracy: 0.9195 - val_loss: 0.2837 - val_accuracy: 0.9200\n",
            "Epoch 63/78\n",
            "750/750 [==============================] - 2s 2ms/step - loss: 0.2884 - accuracy: 0.9198 - val_loss: 0.2836 - val_accuracy: 0.9197\n",
            "Epoch 64/78\n",
            "750/750 [==============================] - 2s 3ms/step - loss: 0.2879 - accuracy: 0.9198 - val_loss: 0.2833 - val_accuracy: 0.9202\n",
            "Epoch 65/78\n",
            "750/750 [==============================] - 2s 3ms/step - loss: 0.2875 - accuracy: 0.9201 - val_loss: 0.2829 - val_accuracy: 0.9208\n",
            "Epoch 66/78\n",
            "750/750 [==============================] - 2s 2ms/step - loss: 0.2871 - accuracy: 0.9201 - val_loss: 0.2826 - val_accuracy: 0.9203\n",
            "Epoch 67/78\n",
            "750/750 [==============================] - 2s 2ms/step - loss: 0.2866 - accuracy: 0.9203 - val_loss: 0.2823 - val_accuracy: 0.9202\n",
            "Epoch 68/78\n",
            "750/750 [==============================] - 2s 2ms/step - loss: 0.2862 - accuracy: 0.9206 - val_loss: 0.2820 - val_accuracy: 0.9212\n",
            "Epoch 69/78\n",
            "750/750 [==============================] - 2s 2ms/step - loss: 0.2858 - accuracy: 0.9208 - val_loss: 0.2817 - val_accuracy: 0.9208\n",
            "Epoch 70/78\n",
            "750/750 [==============================] - 2s 2ms/step - loss: 0.2854 - accuracy: 0.9209 - val_loss: 0.2815 - val_accuracy: 0.9208\n",
            "Epoch 71/78\n",
            "750/750 [==============================] - 2s 3ms/step - loss: 0.2850 - accuracy: 0.9209 - val_loss: 0.2813 - val_accuracy: 0.9212\n",
            "Epoch 72/78\n",
            "750/750 [==============================] - 2s 3ms/step - loss: 0.2846 - accuracy: 0.9209 - val_loss: 0.2810 - val_accuracy: 0.9210\n",
            "Epoch 73/78\n",
            "750/750 [==============================] - 2s 2ms/step - loss: 0.2843 - accuracy: 0.9212 - val_loss: 0.2806 - val_accuracy: 0.9216\n",
            "Epoch 74/78\n",
            "750/750 [==============================] - 2s 2ms/step - loss: 0.2838 - accuracy: 0.9209 - val_loss: 0.2805 - val_accuracy: 0.9215\n",
            "Epoch 75/78\n",
            "750/750 [==============================] - 2s 2ms/step - loss: 0.2835 - accuracy: 0.9214 - val_loss: 0.2801 - val_accuracy: 0.9216\n",
            "Epoch 76/78\n",
            "750/750 [==============================] - 2s 2ms/step - loss: 0.2831 - accuracy: 0.9214 - val_loss: 0.2802 - val_accuracy: 0.9218\n",
            "Epoch 77/78\n",
            "750/750 [==============================] - 2s 2ms/step - loss: 0.2828 - accuracy: 0.9218 - val_loss: 0.2798 - val_accuracy: 0.9216\n",
            "Epoch 78/78\n",
            "750/750 [==============================] - 2s 3ms/step - loss: 0.2824 - accuracy: 0.9218 - val_loss: 0.2795 - val_accuracy: 0.9211\n"
          ]
        },
        {
          "output_type": "execute_result",
          "data": {
            "text/plain": [
              "<keras.callbacks.History at 0x7f381bda3850>"
            ]
          },
          "metadata": {},
          "execution_count": 14
        }
      ],
      "source": [
        "model.fit(X_train, y_train, batch_size=64, epochs=78, validation_split = 0.2)"
      ]
    },
    {
      "cell_type": "code",
      "execution_count": 15,
      "metadata": {
        "colab": {
          "base_uri": "https://localhost:8080/"
        },
        "id": "V7Qg5yIzJRlH",
        "outputId": "99e73c7f-e9e1-4667-d5f5-49e9fd647651"
      },
      "outputs": [
        {
          "output_type": "stream",
          "name": "stdout",
          "text": [
            "313/313 [==============================] - 0s 1ms/step - loss: 0.2811 - accuracy: 0.9220\n"
          ]
        },
        {
          "output_type": "execute_result",
          "data": {
            "text/plain": [
              "[0.2811020612716675, 0.921999990940094]"
            ]
          },
          "metadata": {},
          "execution_count": 15
        }
      ],
      "source": [
        "model.evaluate(X_test,y_test)"
      ]
    }
  ],
  "metadata": {
    "colab": {
      "provenance": [],
      "authorship_tag": "ABX9TyNvCFLPoA8T/x4Xdd34wPbs",
      "include_colab_link": true
    },
    "kernelspec": {
      "display_name": "Python 3",
      "name": "python3"
    },
    "language_info": {
      "name": "python"
    }
  },
  "nbformat": 4,
  "nbformat_minor": 0
}